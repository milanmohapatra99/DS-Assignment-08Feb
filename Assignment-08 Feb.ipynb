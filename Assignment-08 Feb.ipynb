{
 "cells": [
  {
   "cell_type": "markdown",
   "id": "bc3f449b-61bc-48f0-a252-302998940dde",
   "metadata": {},
   "source": [
    "Ques : 1.What is abstraction in OOPS? Explain with an example."
   ]
  },
  {
   "cell_type": "markdown",
   "id": "13b29e6f-a2c4-40c4-8b34-669c8a705f5e",
   "metadata": {},
   "source": [
    "Ans:- The main purpose of abstraction is hiding the unnecessary details from the users. Abstraction is selecting data from a larger pool to show only relevant details of the object to the user. \n",
    "It helps in reducing programming complexity and efforts.\n",
    "\n",
    "Example:-\n",
    "Suppose you have subscribed to Amazon Prime Video. So, as a user, all you have to do is sign-up and start interacting with the user interface of the platform. You can select the movie that you want to watch. However, we are not aware of what goes on in the backend – information such as how many movies are stored in their database, or how the data is being used to recommend movies to you. \n",
    "These details are not relevant to the users in general and so are hidden from them.\n"
   ]
  },
  {
   "cell_type": "code",
   "execution_count": 5,
   "id": "6afce890-9482-4761-9ecf-6790ba8fa73d",
   "metadata": {},
   "outputs": [
    {
     "name": "stdout",
     "output_type": "stream",
     "text": [
      "The mileage of Tesla car is 50kmph\n",
      "The mileage of Renault car is 67kmph \n",
      "The mileage of Suzuki is 40kmph \n",
      "The mileage of Duster car is 26kmph \n"
     ]
    }
   ],
   "source": [
    "#e.g of car in abstraction\n",
    "class Car():   \n",
    "    def mileage(self):   \n",
    "        pass  \n",
    "class Tesla(Car):   \n",
    "    def mileage(self):   \n",
    "        print(\"The mileage of Tesla car is 50kmph\")   \n",
    "class Suzuki(Car):   \n",
    "    def mileage(self):   \n",
    "        print(\"The mileage of Suzuki is 40kmph \")   \n",
    "class Duster(Car):   \n",
    "     def mileage(self):   \n",
    "        print(\"The mileage of Duster car is 26kmph \")   \n",
    "class Renault(Car):   \n",
    "    def mileage(self):   \n",
    "            print(\"The mileage of Renault car is 67kmph \")   \n",
    "# Object code  \n",
    "t= Tesla ()   \n",
    "t.mileage()   \n",
    "  \n",
    "r = Renault()   \n",
    "r.mileage()   \n",
    "  \n",
    "s = Suzuki()   \n",
    "s.mileage()   \n",
    "d = Duster()   \n",
    "d.mileage()  "
   ]
  },
  {
   "cell_type": "markdown",
   "id": "439558f7-302f-4cf8-a1ee-89b4d95caecd",
   "metadata": {},
   "source": [
    "Q2. Differentiate between Abstraction and Encapsulation. Explain with an example."
   ]
  },
  {
   "cell_type": "markdown",
   "id": "d144cd41-90d2-413a-8696-7fcfd150337d",
   "metadata": {},
   "source": [
    "Ans:-\n",
    "Abstraction :-\n",
    "Abstraction solves the problem in design level.Abstraction is used for\n",
    "hiding the unwanted data and giving relevant data.\n",
    "\n",
    "Abstraction lets us focus on what the object does instead of how it does it.\n",
    "\n",
    "For Example :-\n",
    "\n",
    "Outer look of a mobile phone like it has a display screen and keypad buttons to dial a number.\n",
    "\n",
    "Encapsulation :- \n",
    "Encapsulation solves the problem in the implementation level.Encapsulation means hiding\n",
    "the code and data into a single unit to protect the data from outside world.\n",
    "\n",
    "Encapsulation means hiding the internal details or mechanics of how an object does something.\n",
    "\n",
    "For Example :- Inner Implementation details of a mobilephone,how keypad button and Display Screen are connect with each other using circuits.\n"
   ]
  },
  {
   "cell_type": "markdown",
   "id": "8d8eb8b4-4306-43e7-9c7c-4cfa6b5b7a44",
   "metadata": {},
   "source": [
    "Q3. What is abc module in python? Why is it used?"
   ]
  },
  {
   "cell_type": "markdown",
   "id": "f4d256b9-e463-49b6-adab-ea662c539c93",
   "metadata": {},
   "source": [
    "Ans:-\n",
    "An Abstract class is one of important concept in object oriented programming(oops). It is like blueprint for other classes.\n",
    "\n",
    "The ‘abc’ module in the Python library provides the infrastructure for defining custom abstract base classes.\n",
    "\n",
    "Abstract class cannot be instantiated in python. An Abstract method can be call by its subclasses."
   ]
  },
  {
   "cell_type": "markdown",
   "id": "5bc55fb0-a85f-4f8c-b507-c29f6ce4a04a",
   "metadata": {},
   "source": [
    "Q4. How can we achieve data abstraction?"
   ]
  },
  {
   "cell_type": "markdown",
   "id": "03e28921-dff0-4c5d-8bc6-5ed71d47cf24",
   "metadata": {},
   "source": [
    "Ans:-\n",
    "Data Abstraction in Python can be achieved through creating abstract classes and inheriting them later.\n",
    "\n",
    "Data Abstraction is a technique to hide the internal implementation details of an object and present only the relevant information to the outside world. "
   ]
  },
  {
   "cell_type": "markdown",
   "id": "4492acb2-0580-4771-9c09-32c1b74fe81f",
   "metadata": {},
   "source": [
    "Q5. Can we create an instance of an abstract class? Explain your answer."
   ]
  },
  {
   "cell_type": "markdown",
   "id": "d2d88099-9f03-4751-8af7-1984b0b9b907",
   "metadata": {},
   "source": [
    "Ans:-\n",
    "No, we cannot create an instance of an abstract class. An abstract class is a class that is meant to be subclassed and cannot be instantiated directly.\n",
    "\n",
    "because it does not have a complete implementation. The purpose of an abstract class is to function as a base for subclasses. It acts like a template, or an empty or partially empty structure, you should extend it and build on it before you can use it."
   ]
  },
  {
   "cell_type": "code",
   "execution_count": null,
   "id": "aea15124-5c6f-4de7-9624-264033bcc11a",
   "metadata": {},
   "outputs": [],
   "source": []
  }
 ],
 "metadata": {
  "kernelspec": {
   "display_name": "Python 3 (ipykernel)",
   "language": "python",
   "name": "python3"
  },
  "language_info": {
   "codemirror_mode": {
    "name": "ipython",
    "version": 3
   },
   "file_extension": ".py",
   "mimetype": "text/x-python",
   "name": "python",
   "nbconvert_exporter": "python",
   "pygments_lexer": "ipython3",
   "version": "3.10.6"
  }
 },
 "nbformat": 4,
 "nbformat_minor": 5
}
